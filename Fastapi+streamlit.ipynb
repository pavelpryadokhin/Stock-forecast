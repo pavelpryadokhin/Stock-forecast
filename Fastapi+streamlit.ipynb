{
  "nbformat": 4,
  "nbformat_minor": 0,
  "metadata": {
    "colab": {
      "provenance": [],
      "gpuType": "T4",
      "include_colab_link": true
    },
    "kernelspec": {
      "name": "python3",
      "display_name": "Python 3"
    },
    "language_info": {
      "name": "python"
    },
    "accelerator": "GPU"
  },
  "cells": [
    {
      "cell_type": "markdown",
      "metadata": {
        "id": "view-in-github",
        "colab_type": "text"
      },
      "source": [
        "<a href=\"https://colab.research.google.com/github/pavelpryadokhin/Stock-forecast/blob/main/Fastapi%2Bstreamlit.ipynb\" target=\"_parent\"><img src=\"https://colab.research.google.com/assets/colab-badge.svg\" alt=\"Open In Colab\"/></a>"
      ]
    },
    {
      "cell_type": "markdown",
      "source": [
        "#Сервис, анализирующий акции и прогнозирующий их цену на следующий день"
      ],
      "metadata": {
        "id": "BA-vMRfYl9Z2"
      }
    },
    {
      "cell_type": "markdown",
      "source": [
        "Создадим сервис, который будет анализировать исторические данные о котировках акций и делать прогнозы на следующий день."
      ],
      "metadata": {
        "id": "RnsWrdAmmqlY"
      }
    },
    {
      "cell_type": "code",
      "source": [
        "!pip install streamlit\n",
        "!pip install fastapi # Установим FastAPI\n",
        "!pip install uvicorn # Установим ASGI-сервер\n",
        "!pip install python-multipart # Необходимая зависимость для FastAPI (для работы с данными отправленных форм на сайте)"
      ],
      "metadata": {
        "colab": {
          "base_uri": "https://localhost:8080/"
        },
        "id": "geX8oQbVUN-H",
        "outputId": "367b6092-6908-4bf9-a87b-23545df07b04",
        "collapsed": true
      },
      "execution_count": null,
      "outputs": [
        {
          "output_type": "stream",
          "name": "stdout",
          "text": [
            "Collecting streamlit\n",
            "  Downloading streamlit-1.42.0-py2.py3-none-any.whl.metadata (8.9 kB)\n",
            "Requirement already satisfied: altair<6,>=4.0 in /usr/local/lib/python3.10/dist-packages (from streamlit) (5.5.0)\n",
            "Requirement already satisfied: blinker<2,>=1.0.0 in /usr/local/lib/python3.10/dist-packages (from streamlit) (1.9.0)\n",
            "Requirement already satisfied: cachetools<6,>=4.0 in /usr/local/lib/python3.10/dist-packages (from streamlit) (5.5.0)\n",
            "Requirement already satisfied: click<9,>=7.0 in /usr/local/lib/python3.10/dist-packages (from streamlit) (8.1.7)\n",
            "Requirement already satisfied: numpy<3,>=1.23 in /usr/local/lib/python3.10/dist-packages (from streamlit) (1.26.4)\n",
            "Requirement already satisfied: packaging<25,>=20 in /usr/local/lib/python3.10/dist-packages (from streamlit) (24.2)\n",
            "Requirement already satisfied: pandas<3,>=1.4.0 in /usr/local/lib/python3.10/dist-packages (from streamlit) (2.2.2)\n",
            "Requirement already satisfied: pillow<12,>=7.1.0 in /usr/local/lib/python3.10/dist-packages (from streamlit) (11.0.0)\n",
            "Requirement already satisfied: protobuf<6,>=3.20 in /usr/local/lib/python3.10/dist-packages (from streamlit) (4.25.5)\n",
            "Requirement already satisfied: pyarrow>=7.0 in /usr/local/lib/python3.10/dist-packages (from streamlit) (17.0.0)\n",
            "Requirement already satisfied: requests<3,>=2.27 in /usr/local/lib/python3.10/dist-packages (from streamlit) (2.32.3)\n",
            "Requirement already satisfied: rich<14,>=10.14.0 in /usr/local/lib/python3.10/dist-packages (from streamlit) (13.9.4)\n",
            "Requirement already satisfied: tenacity<10,>=8.1.0 in /usr/local/lib/python3.10/dist-packages (from streamlit) (9.0.0)\n",
            "Requirement already satisfied: toml<2,>=0.10.1 in /usr/local/lib/python3.10/dist-packages (from streamlit) (0.10.2)\n",
            "Requirement already satisfied: typing-extensions<5,>=4.4.0 in /usr/local/lib/python3.10/dist-packages (from streamlit) (4.12.2)\n",
            "Collecting watchdog<7,>=2.1.5 (from streamlit)\n",
            "  Downloading watchdog-6.0.0-py3-none-manylinux2014_x86_64.whl.metadata (44 kB)\n",
            "\u001b[2K     \u001b[90m━━━━━━━━━━━━━━━━━━━━━━━━━━━━━━━━━━━━━━━━\u001b[0m \u001b[32m44.3/44.3 kB\u001b[0m \u001b[31m2.4 MB/s\u001b[0m eta \u001b[36m0:00:00\u001b[0m\n",
            "\u001b[?25hRequirement already satisfied: gitpython!=3.1.19,<4,>=3.0.7 in /usr/local/lib/python3.10/dist-packages (from streamlit) (3.1.43)\n",
            "Collecting pydeck<1,>=0.8.0b4 (from streamlit)\n",
            "  Downloading pydeck-0.9.1-py2.py3-none-any.whl.metadata (4.1 kB)\n",
            "Requirement already satisfied: tornado<7,>=6.0.3 in /usr/local/lib/python3.10/dist-packages (from streamlit) (6.3.3)\n",
            "Requirement already satisfied: jinja2 in /usr/local/lib/python3.10/dist-packages (from altair<6,>=4.0->streamlit) (3.1.4)\n",
            "Requirement already satisfied: jsonschema>=3.0 in /usr/local/lib/python3.10/dist-packages (from altair<6,>=4.0->streamlit) (4.23.0)\n",
            "Requirement already satisfied: narwhals>=1.14.2 in /usr/local/lib/python3.10/dist-packages (from altair<6,>=4.0->streamlit) (1.18.4)\n",
            "Requirement already satisfied: gitdb<5,>=4.0.1 in /usr/local/lib/python3.10/dist-packages (from gitpython!=3.1.19,<4,>=3.0.7->streamlit) (4.0.11)\n",
            "Requirement already satisfied: python-dateutil>=2.8.2 in /usr/local/lib/python3.10/dist-packages (from pandas<3,>=1.4.0->streamlit) (2.8.2)\n",
            "Requirement already satisfied: pytz>=2020.1 in /usr/local/lib/python3.10/dist-packages (from pandas<3,>=1.4.0->streamlit) (2024.2)\n",
            "Requirement already satisfied: tzdata>=2022.7 in /usr/local/lib/python3.10/dist-packages (from pandas<3,>=1.4.0->streamlit) (2024.2)\n",
            "Requirement already satisfied: charset-normalizer<4,>=2 in /usr/local/lib/python3.10/dist-packages (from requests<3,>=2.27->streamlit) (3.4.0)\n",
            "Requirement already satisfied: idna<4,>=2.5 in /usr/local/lib/python3.10/dist-packages (from requests<3,>=2.27->streamlit) (3.10)\n",
            "Requirement already satisfied: urllib3<3,>=1.21.1 in /usr/local/lib/python3.10/dist-packages (from requests<3,>=2.27->streamlit) (2.2.3)\n",
            "Requirement already satisfied: certifi>=2017.4.17 in /usr/local/lib/python3.10/dist-packages (from requests<3,>=2.27->streamlit) (2024.12.14)\n",
            "Requirement already satisfied: markdown-it-py>=2.2.0 in /usr/local/lib/python3.10/dist-packages (from rich<14,>=10.14.0->streamlit) (3.0.0)\n",
            "Requirement already satisfied: pygments<3.0.0,>=2.13.0 in /usr/local/lib/python3.10/dist-packages (from rich<14,>=10.14.0->streamlit) (2.18.0)\n",
            "Requirement already satisfied: smmap<6,>=3.0.1 in /usr/local/lib/python3.10/dist-packages (from gitdb<5,>=4.0.1->gitpython!=3.1.19,<4,>=3.0.7->streamlit) (5.0.1)\n",
            "Requirement already satisfied: MarkupSafe>=2.0 in /usr/local/lib/python3.10/dist-packages (from jinja2->altair<6,>=4.0->streamlit) (3.0.2)\n",
            "Requirement already satisfied: attrs>=22.2.0 in /usr/local/lib/python3.10/dist-packages (from jsonschema>=3.0->altair<6,>=4.0->streamlit) (24.3.0)\n",
            "Requirement already satisfied: jsonschema-specifications>=2023.03.6 in /usr/local/lib/python3.10/dist-packages (from jsonschema>=3.0->altair<6,>=4.0->streamlit) (2024.10.1)\n",
            "Requirement already satisfied: referencing>=0.28.4 in /usr/local/lib/python3.10/dist-packages (from jsonschema>=3.0->altair<6,>=4.0->streamlit) (0.35.1)\n",
            "Requirement already satisfied: rpds-py>=0.7.1 in /usr/local/lib/python3.10/dist-packages (from jsonschema>=3.0->altair<6,>=4.0->streamlit) (0.22.3)\n",
            "Requirement already satisfied: mdurl~=0.1 in /usr/local/lib/python3.10/dist-packages (from markdown-it-py>=2.2.0->rich<14,>=10.14.0->streamlit) (0.1.2)\n",
            "Requirement already satisfied: six>=1.5 in /usr/local/lib/python3.10/dist-packages (from python-dateutil>=2.8.2->pandas<3,>=1.4.0->streamlit) (1.17.0)\n",
            "Downloading streamlit-1.42.0-py2.py3-none-any.whl (9.6 MB)\n",
            "\u001b[2K   \u001b[90m━━━━━━━━━━━━━━━━━━━━━━━━━━━━━━━━━━━━━━━━\u001b[0m \u001b[32m9.6/9.6 MB\u001b[0m \u001b[31m63.9 MB/s\u001b[0m eta \u001b[36m0:00:00\u001b[0m\n",
            "\u001b[?25hDownloading pydeck-0.9.1-py2.py3-none-any.whl (6.9 MB)\n",
            "\u001b[2K   \u001b[90m━━━━━━━━━━━━━━━━━━━━━━━━━━━━━━━━━━━━━━━━\u001b[0m \u001b[32m6.9/6.9 MB\u001b[0m \u001b[31m66.9 MB/s\u001b[0m eta \u001b[36m0:00:00\u001b[0m\n",
            "\u001b[?25hDownloading watchdog-6.0.0-py3-none-manylinux2014_x86_64.whl (79 kB)\n",
            "\u001b[2K   \u001b[90m━━━━━━━━━━━━━━━━━━━━━━━━━━━━━━━━━━━━━━━━\u001b[0m \u001b[32m79.1/79.1 kB\u001b[0m \u001b[31m5.7 MB/s\u001b[0m eta \u001b[36m0:00:00\u001b[0m\n",
            "\u001b[?25hInstalling collected packages: watchdog, pydeck, streamlit\n",
            "Successfully installed pydeck-0.9.1 streamlit-1.42.0 watchdog-6.0.0\n",
            "Collecting fastapi\n",
            "  Downloading fastapi-0.115.8-py3-none-any.whl.metadata (27 kB)\n",
            "Collecting starlette<0.46.0,>=0.40.0 (from fastapi)\n",
            "  Downloading starlette-0.45.3-py3-none-any.whl.metadata (6.3 kB)\n",
            "Requirement already satisfied: pydantic!=1.8,!=1.8.1,!=2.0.0,!=2.0.1,!=2.1.0,<3.0.0,>=1.7.4 in /usr/local/lib/python3.10/dist-packages (from fastapi) (2.10.3)\n",
            "Requirement already satisfied: typing-extensions>=4.8.0 in /usr/local/lib/python3.10/dist-packages (from fastapi) (4.12.2)\n",
            "Requirement already satisfied: annotated-types>=0.6.0 in /usr/local/lib/python3.10/dist-packages (from pydantic!=1.8,!=1.8.1,!=2.0.0,!=2.0.1,!=2.1.0,<3.0.0,>=1.7.4->fastapi) (0.7.0)\n",
            "Requirement already satisfied: pydantic-core==2.27.1 in /usr/local/lib/python3.10/dist-packages (from pydantic!=1.8,!=1.8.1,!=2.0.0,!=2.0.1,!=2.1.0,<3.0.0,>=1.7.4->fastapi) (2.27.1)\n",
            "Requirement already satisfied: anyio<5,>=3.6.2 in /usr/local/lib/python3.10/dist-packages (from starlette<0.46.0,>=0.40.0->fastapi) (3.7.1)\n",
            "Requirement already satisfied: idna>=2.8 in /usr/local/lib/python3.10/dist-packages (from anyio<5,>=3.6.2->starlette<0.46.0,>=0.40.0->fastapi) (3.10)\n",
            "Requirement already satisfied: sniffio>=1.1 in /usr/local/lib/python3.10/dist-packages (from anyio<5,>=3.6.2->starlette<0.46.0,>=0.40.0->fastapi) (1.3.1)\n",
            "Requirement already satisfied: exceptiongroup in /usr/local/lib/python3.10/dist-packages (from anyio<5,>=3.6.2->starlette<0.46.0,>=0.40.0->fastapi) (1.2.2)\n",
            "Downloading fastapi-0.115.8-py3-none-any.whl (94 kB)\n",
            "\u001b[2K   \u001b[90m━━━━━━━━━━━━━━━━━━━━━━━━━━━━━━━━━━━━━━━━\u001b[0m \u001b[32m94.8/94.8 kB\u001b[0m \u001b[31m7.2 MB/s\u001b[0m eta \u001b[36m0:00:00\u001b[0m\n",
            "\u001b[?25hDownloading starlette-0.45.3-py3-none-any.whl (71 kB)\n",
            "\u001b[2K   \u001b[90m━━━━━━━━━━━━━━━━━━━━━━━━━━━━━━━━━━━━━━━━\u001b[0m \u001b[32m71.5/71.5 kB\u001b[0m \u001b[31m6.2 MB/s\u001b[0m eta \u001b[36m0:00:00\u001b[0m\n",
            "\u001b[?25hInstalling collected packages: starlette, fastapi\n",
            "Successfully installed fastapi-0.115.8 starlette-0.45.3\n",
            "Collecting uvicorn\n",
            "  Downloading uvicorn-0.34.0-py3-none-any.whl.metadata (6.5 kB)\n",
            "Requirement already satisfied: click>=7.0 in /usr/local/lib/python3.10/dist-packages (from uvicorn) (8.1.7)\n",
            "Requirement already satisfied: h11>=0.8 in /usr/local/lib/python3.10/dist-packages (from uvicorn) (0.14.0)\n",
            "Requirement already satisfied: typing-extensions>=4.0 in /usr/local/lib/python3.10/dist-packages (from uvicorn) (4.12.2)\n",
            "Downloading uvicorn-0.34.0-py3-none-any.whl (62 kB)\n",
            "\u001b[2K   \u001b[90m━━━━━━━━━━━━━━━━━━━━━━━━━━━━━━━━━━━━━━━━\u001b[0m \u001b[32m62.3/62.3 kB\u001b[0m \u001b[31m5.6 MB/s\u001b[0m eta \u001b[36m0:00:00\u001b[0m\n",
            "\u001b[?25hInstalling collected packages: uvicorn\n",
            "Successfully installed uvicorn-0.34.0\n",
            "Collecting python-multipart\n",
            "  Downloading python_multipart-0.0.20-py3-none-any.whl.metadata (1.8 kB)\n",
            "Downloading python_multipart-0.0.20-py3-none-any.whl (24 kB)\n",
            "Installing collected packages: python-multipart\n",
            "Successfully installed python-multipart-0.0.20\n"
          ]
        }
      ]
    },
    {
      "cell_type": "code",
      "source": [
        "%%writefile main.py\n",
        "\n",
        "from fastapi import FastAPI, Body,UploadFile, File\n",
        "from fastapi.responses import JSONResponse,PlainTextResponse\n",
        "import joblib\n",
        "import keras\n",
        "from typing import List\n",
        "import numpy as np\n",
        "import pandas as pd\n",
        "from pydantic import BaseModel\n",
        "import joblib\n",
        "from sklearn.preprocessing import StandardScaler\n",
        "from tensorflow.keras.preprocessing.sequence import TimeseriesGenerator\n",
        "from keras.layers import concatenate, Input, Dense, Dropout, BatchNormalization\n",
        "from keras.layers import Flatten, Conv1D, Conv2D, LSTM, GlobalMaxPooling1D\n",
        "from keras.models import Sequential, Model\n",
        "\n",
        "\n",
        "app=FastAPI()\n",
        "models_scaler= {}\n",
        "n_input = 50 # Размерность входных данных\n",
        "\n",
        "def model_predict(scaled_train_data,scaled_test_data,model_id,models_scaler):\n",
        "    BATCH_SIZE = 20 # Размер пакета\n",
        "\n",
        "    generator = TimeseriesGenerator(scaled_train_data, scaled_train_data, length=n_input, batch_size=BATCH_SIZE)\n",
        "    validator = TimeseriesGenerator(scaled_test_data, scaled_test_data, length=n_input, batch_size=BATCH_SIZE)\n",
        "\n",
        "\n",
        "    model = Sequential()\n",
        "    model.add(LSTM(100, input_shape=generator[0][0].shape[1:], return_sequences=True))\n",
        "    model.add(LSTM(100))\n",
        "    model.add(Dense(50, activation='relu'))\n",
        "    model.add(Dense(1,activation=\"linear\"))\n",
        "    model.compile(optimizer='adam', loss='mse')\n",
        "    model.summary()\n",
        "\n",
        "    callbacks = [\n",
        "    keras.callbacks.ModelCheckpoint(filepath = f'model_{model_id}.keras',\n",
        "                             monitor = 'val_loss',\n",
        "                             save_best_only = True,\n",
        "                             mode = 'min',\n",
        "                             verbose = 0),]\n",
        "    history= model.fit(generator, epochs=10, validation_data=validator,callbacks=callbacks)\n",
        "    model = keras.saving.load_model(f'model_{model_id}.keras')\n",
        "    print(model_id,models_scaler)\n",
        "    models_scaler[model_id].append(model)\n",
        "\n",
        "\n",
        "def predict_price(model,test_x,n_days,n_input):\n",
        "    predictions = []\n",
        "\n",
        "    # Первоначальные данные для последующих предсказаний\n",
        "    current_input = test_x.reshape(-1, 1)\n",
        "\n",
        "    for _ in range(n_days):\n",
        "        prediction = model.predict(current_input.reshape(1,n_input,1), verbose=0)\n",
        "        predictions.append(prediction[0, 0])\n",
        "        current_input = np.append(current_input[1:], prediction, axis=0)\n",
        "    return np.array(predictions).reshape(-1, 1)\n",
        "\n",
        "\n",
        "def rmse_mape(model, scaled_test_data, n_days, scaler,n_input=n_input):\n",
        "    test=TimeseriesGenerator(scaled_test_data[-(n_input+n_days):], scaled_test_data[-(n_input+n_days):], length=n_input, batch_size=1)\n",
        "    test_x=test[0][0]\n",
        "\n",
        "    y_true=scaler.inverse_transform(scaled_test_data[-n_days:])\n",
        "    y_pred = scaler.inverse_transform(predict_price(model,test_x,n_days,n_input))\n",
        "\n",
        "    rmse = np.sqrt(np.mean((y_true - y_pred) ** 2))\n",
        "    mape = np.mean(np.abs((y_true - y_pred) / y_true)) * 100\n",
        "\n",
        "    return rmse,mape\n",
        "\n",
        "\n",
        "class TrainingData(BaseModel):\n",
        "    client_id: str\n",
        "    price: List[List[float]]\n",
        "\n",
        "class PredictData(BaseModel):\n",
        "    client_id: str\n",
        "    price: List[List[float]]\n",
        "    n_days: int\n",
        "\n",
        "\n",
        "@app.post('/api/train')\n",
        "async def train_model(data: TrainingData = Body(...)):\n",
        "    global models_scaler,n_input\n",
        "    price = np.array(data.price)\n",
        "\n",
        "    train_size = int(0.85 * len(price))\n",
        "    train_data = price[:train_size]\n",
        "    test_data = price[train_size:]\n",
        "\n",
        "    scaler = StandardScaler()\n",
        "    scaler.fit(train_data)\n",
        "    scaled_train_data = scaler.transform(train_data)\n",
        "    scaled_test_data = scaler.transform(test_data)\n",
        "\n",
        "    models_scaler[data.client_id]=[scaler]\n",
        "    joblib.dump(scaler, f'scaler_{data.client_id}.pkl')\n",
        "\n",
        "    model_predict(scaled_train_data,scaled_test_data,data.client_id,models_scaler)\n",
        "    rmse,mape=rmse_mape(models_scaler[data.client_id][1], scaled_test_data, 20, scaler)\n",
        "\n",
        "    return {'rmse':rmse,'mape':mape}\n",
        "\n",
        "\n",
        "@app.post('/api/predict')\n",
        "async def predict_model(data: PredictData = Body(...)):\n",
        "    global models_scaler,n_input\n",
        "    try:\n",
        "        predict_data = np.array(data.price)[-n_input:]\n",
        "        predict =  models_scaler[data.client_id][0].transform(predict_data).reshape(1,n_input,1)\n",
        "\n",
        "        result = models_scaler[data.client_id][0].inverse_transform(predict_price(\n",
        "                            models_scaler[data.client_id][1],predict,data.n_days,n_input))\n",
        "\n",
        "        return {\"predict\": result.flatten().tolist()}\n",
        "    except Exception as e:\n",
        "        return JSONResponse(status_code=500, content={\"error\": str(e)})\n",
        "\n",
        "\n",
        "@app.get(\"/test\")\n",
        "def get_test():\n",
        "    return {\"Hello\": \"World\"}"
      ],
      "metadata": {
        "id": "78PQVGjaaLSl"
      },
      "execution_count": null,
      "outputs": []
    },
    {
      "cell_type": "code",
      "source": [
        "!nohup uvicorn main:app --reload &"
      ],
      "metadata": {
        "colab": {
          "base_uri": "https://localhost:8080/"
        },
        "id": "NQgIJjSQZ_9C",
        "outputId": "9c700dd6-a920-49b2-f270-42a4ce7abeb0"
      },
      "execution_count": null,
      "outputs": [
        {
          "output_type": "stream",
          "name": "stdout",
          "text": [
            "nohup: appending output to 'nohup.out'\n"
          ]
        }
      ]
    },
    {
      "cell_type": "code",
      "source": [
        "!cat nohup.out"
      ],
      "metadata": {
        "id": "RHmjj5Z_dDpF"
      },
      "execution_count": null,
      "outputs": []
    },
    {
      "cell_type": "code",
      "source": [
        "import requests\n",
        "r = requests.get('http://127.0.0.1:8000/test')\n",
        "print(r.status_code)\n",
        "print(r.text)\n",
        "\n",
        "#если ошибка, то перезагрузите uvicorn и main.py"
      ],
      "metadata": {
        "colab": {
          "base_uri": "https://localhost:8080/"
        },
        "id": "IAmL22_BtNDJ",
        "outputId": "fb0785f7-4a90-4146-f79b-208d2fbbaa30"
      },
      "execution_count": null,
      "outputs": [
        {
          "output_type": "stream",
          "name": "stdout",
          "text": [
            "200\n",
            "{\"Hello\":\"World\"}\n"
          ]
        }
      ]
    },
    {
      "cell_type": "code",
      "source": [
        "%%writefile streamlit.py\n",
        "# Импортируем библиотеку\n",
        "import streamlit as st\n",
        "import pandas as pd\n",
        "import requests\n",
        "import plotly.graph_objs as go\n",
        "import numpy as np\n",
        "from datetime import timedelta\n",
        "\n",
        "st.title(\"Прогнозирование цен акций с использованием нейронных сетей\")\n",
        "\n",
        "if 'model_trained' not in st.session_state:\n",
        "    st.session_state.model_trained = False\n",
        "if 'predictions' not in st.session_state:\n",
        "    st.session_state.predictions = None\n",
        "\n",
        "format_map = {\n",
        "        'ггммдд': '%y%m%d',\n",
        "        'ддммгг': '%d%m%y',\n",
        "        'ммддгг': '%m%d%y'\n",
        "    }\n",
        "\n",
        "\n",
        "#Вывод графика предсказания\n",
        "def plot(price,pred_prices):\n",
        "    price_tail = price.tail(40)\n",
        "    pred_days=[price_tail.index[-1] + timedelta(days=i) for i in range(1, len(pred_prices) + 1)]\n",
        "    all_days=price_tail.index.tolist() + pred_days\n",
        "    all_prices=price_tail.iloc[:, 0].tolist() + pred_prices\n",
        "\n",
        "    fig = go.Figure()\n",
        "    # Добавление одной линии для комбинированных цен (фактические + предсказанные)\n",
        "    fig.add_trace(go.Scatter(x=all_days, y=all_prices,\n",
        "                            mode='lines+markers',\n",
        "                            name='Цены',\n",
        "                            line=dict(color='royalblue', width=2),\n",
        "                            marker=dict(size=6)))\n",
        "\n",
        "    # Добавление ограничивающей линии\n",
        "    fig.add_shape(type='line',\n",
        "                x0=price_tail.index[-1], x1=price_tail.index[-1],\n",
        "                y0=0, y1=max(all_prices),\n",
        "                line=dict(color='red', width=2, dash='dash'),\n",
        "                name='Начало предсказания')\n",
        "\n",
        "    # Добавление аннотации для фактических цен\n",
        "    fig.add_annotation(x=price_tail.index[-1] - pd.Timedelta(days=15),\n",
        "                    y=max(all_prices) ,text='Фактические цены',\n",
        "                    font=dict(color='royalblue'))\n",
        "\n",
        "    fig.add_annotation(x=price_tail.index[-1] + pd.Timedelta(days=1),\n",
        "                    y=max(all_prices), text='Предсказанные цены',\n",
        "                    font=dict(color='tomato'))\n",
        "\n",
        "    fig.update_layout(xaxis_title='Дата', yaxis_title='Цена',\n",
        "                    legend_title='Тип цен',template='plotly_white',\n",
        "                    yaxis=dict(range=[min(all_prices) - 10, max(all_prices) + 10]))\n",
        "\n",
        "    st.plotly_chart(fig)\n",
        "\n",
        "\n",
        "# Обучения модели\n",
        "def train(price):\n",
        "    if 'rmse' not in st.session_state:\n",
        "        st.session_state.rmse = 0\n",
        "    if 'mape' not in st.session_state:\n",
        "        st.session_state.mape = 0\n",
        "\n",
        "    if not st.session_state.model_trained:\n",
        "        if st.button(\"Обучить модель\"):\n",
        "            st.write('Это может занять до 3 минут. Пожалуйста, подождите)')\n",
        "            response = requests.post(\n",
        "                \"http://127.0.0.1:8000/api/train/\",\n",
        "                json={\"client_id\": \"client_1\",'price':np.array(price).tolist()})\n",
        "            status = response.status_code\n",
        "            result = response.json()\n",
        "\n",
        "            rmse= round(result['rmse'],2)\n",
        "            mape= round(result['mape'],2)\n",
        "            st.session_state.rmse,st.session_state.mape=rmse,mape\n",
        "            st.session_state.model_trained = True\n",
        "\n",
        "    if st.session_state.model_trained:\n",
        "        st.header(\"Результаты обучения модели\")\n",
        "\n",
        "        # Вывод RMSE и MAPE с форматированием\n",
        "        l,r=st.columns(2)\n",
        "        l.metric(\"Среднеквадратическая ошибка (RMSE)\", f\"{st.session_state.rmse:.2f}\", delta=\"\")\n",
        "        r.metric(\"Средняя абсолютная процентная ошибка (MAPE)\", f\"{st.session_state.mape:.2f}%\", delta=\"\")\n",
        "\n",
        "        st.write(\"\"\"\n",
        "        **Объяснение метрик:**\n",
        "\n",
        "        - **RMSE** показывает разницу между прогнозируемыми и реальными значениями.\n",
        "        - **MAPE (%)** измеряет эту разницу относительно реальных значений.\n",
        "        - Например, значение MAPE 12% указывает на то, что средняя разница между прогнозируемой ценой акции и фактической ценой акции составляет 12%.\n",
        "        \"\"\")\n",
        "        predict(price)\n",
        "\n",
        "\n",
        "def predict(price):\n",
        "    st.header(\"Прогнозирование модели\")\n",
        "\n",
        "    if st.session_state.model_trained:\n",
        "        forecast_period = st.slider('Введите срок предсказания (в днях)', 1, 14, 1)\n",
        "\n",
        "        if st.button(\"Сделать прогноз\"):\n",
        "            response = requests.post(\n",
        "                    \"http://127.0.0.1:8000/api/predict/\",\n",
        "                    json={\"client_id\": \"client_1\",'price':np.array(price).tolist(),'n_days':forecast_period})\n",
        "\n",
        "            # Сохранение предсказанного периода в сессии + построение графика\n",
        "            st.session_state.predictions = response.json()['predict']\n",
        "            plot(price,st.session_state.predictions)\n",
        "\n",
        "\n",
        "\n",
        "\n",
        "\n",
        "\n",
        "left_column, right_column = st.columns([2,1])\n",
        "\n",
        "with left_column:\n",
        "    uploaded_file = st.file_uploader(\"Загрузите файл с котировками акций\", type=[\"csv\"])\n",
        "with right_column:\n",
        "    separator = st.radio('Какой разделитель в файле?',['',',',';'])\n",
        "\n",
        "\n",
        "if uploaded_file and separator:\n",
        "    df = pd.read_csv(uploaded_file, sep=separator)\n",
        "    st.write(df.head())\n",
        "\n",
        "    l,m,r=st.columns([2,2,1])\n",
        "    with l:\n",
        "        column_date = st.radio(\"Выберите столбец, указывающий ДАТУ\", options=df.columns.tolist())\n",
        "    with m:\n",
        "        column_price = st.radio(\"Выберите столбец, указывающий ЦЕНУ\", options=df.columns.tolist())\n",
        "    with r:\n",
        "        format_date = format_map[st.radio(\"Выберите формат даты\", options=['ггммдд','ддммгг','ммддгг'])]\n",
        "\n",
        "\n",
        "    try:\n",
        "        price = df[[column_date,column_price]]\n",
        "        price[column_date] = pd.to_datetime(price[column_date], format=format_date)\n",
        "        price.set_index(column_date, inplace=True)\n",
        "        col1,col2=st.columns([1,2])\n",
        "        col1.write(price.head())\n",
        "        col2.area_chart(price)\n",
        "        if \"confirmed\" not in st.session_state:\n",
        "            if st.button(\"Подтвердить выбор\"):\n",
        "                st.session_state.confirmed = True  # Сохраняем состояние\n",
        "\n",
        "    except:\n",
        "        st.write('Ошибка. Попробуйте изменить данные в столбцах')\n",
        "\n",
        "    if  \"confirmed\" in st.session_state:\n",
        "        train(price)\n",
        "\n",
        "\n",
        "\n",
        "\n"
      ],
      "metadata": {
        "colab": {
          "base_uri": "https://localhost:8080/"
        },
        "id": "KxcP1YPCUT9g",
        "outputId": "190bec64-f056-48ae-ced3-8b31f09e329a"
      },
      "execution_count": null,
      "outputs": [
        {
          "output_type": "stream",
          "name": "stdout",
          "text": [
            "Writing streamlit.py\n"
          ]
        }
      ]
    },
    {
      "cell_type": "code",
      "source": [
        "!streamlit run streamlit.py --server.address=localhost >/content/logs.txt & ssh -o \"StrictHostKeyChecking no\" -R 80:localhost:8501 serveo.net"
      ],
      "metadata": {
        "colab": {
          "base_uri": "https://localhost:8080/"
        },
        "id": "Qmn0GYDFUgNb",
        "outputId": "9bb9e676-e05e-47f3-d267-83b67d5cec7a",
        "collapsed": true
      },
      "execution_count": null,
      "outputs": [
        {
          "output_type": "stream",
          "name": "stdout",
          "text": [
            "ssh: connect to host serveo.net port 22: Connection refused\r\n"
          ]
        }
      ]
    },
    {
      "cell_type": "markdown",
      "source": [
        "#Пути улучшения"
      ],
      "metadata": {
        "id": "lnsI_1NonJMy"
      }
    },
    {
      "cell_type": "markdown",
      "source": [
        "В будущем можно усовершенствовать процесс прогнозирования, сделав модель более сложной. Также стоит рассмотреть возможность включения в процесс принятия решений модели BERT, которая способна анализировать новости и отражать общее настроение рынка."
      ],
      "metadata": {
        "id": "KNqjuQOanMuj"
      }
    }
  ]
}